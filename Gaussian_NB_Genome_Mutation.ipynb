{
  "nbformat": 4,
  "nbformat_minor": 0,
  "metadata": {
    "colab": {
      "name": "Gaussian NB_Genome Mutation.ipynb",
      "provenance": [],
      "authorship_tag": "ABX9TyNuXWJmP3I/eWQ5S3b536EX",
      "include_colab_link": true
    },
    "kernelspec": {
      "name": "python3",
      "display_name": "Python 3"
    },
    "language_info": {
      "name": "python"
    }
  },
  "cells": [
    {
      "cell_type": "markdown",
      "metadata": {
        "id": "view-in-github",
        "colab_type": "text"
      },
      "source": [
        "<a href=\"https://colab.research.google.com/github/MehwishSameer/Machine-Learning/blob/main/Gaussian_NB_Genome_Mutation.ipynb\" target=\"_parent\"><img src=\"https://colab.research.google.com/assets/colab-badge.svg\" alt=\"Open In Colab\"/></a>"
      ]
    },
    {
      "cell_type": "code",
      "execution_count": 2,
      "metadata": {
        "id": "g3zUd5RaDR42"
      },
      "outputs": [],
      "source": [
        "import numpy as np\n",
        "import pandas as pd\n",
        "import matplotlib.pyplot as plt\n",
        "from sklearn.naive_bayes import GaussianNB\n",
        "from sklearn.preprocessing import LabelEncoder\n",
        "from sklearn.model_selection import train_test_split\n",
        "from sklearn import neighbors,metrics\n",
        "from sklearn.metrics import accuracy_score, confusion_matrix\n",
        "from matplotlib import ticker\n",
        "import seaborn as sns\n",
        "import warnings\n",
        "\n",
        "# options\n",
        "warnings.filterwarnings('ignore')"
      ]
    },
    {
      "cell_type": "code",
      "source": [
        "from google.colab import drive\n",
        "drive.mount('/content/gdrive')\n",
        "path = 'gdrive/My Drive/car.data'\n",
        "data = pd.read_csv(path)\n",
        "train = pd.read_csv('gdrive/My Drive/train.csv')\n",
        "test = pd.read_csv('gdrive/My Drive/test.csv')\n",
        "submission = pd.read_csv('gdrive/My Drive/submission (5).csv')"
      ],
      "metadata": {
        "colab": {
          "base_uri": "https://localhost:8080/"
        },
        "id": "JM3yuTs8DinW",
        "outputId": "6fe32cff-895a-47a4-aa10-57a1beb0d127"
      },
      "execution_count": 3,
      "outputs": [
        {
          "output_type": "stream",
          "name": "stdout",
          "text": [
            "Mounted at /content/gdrive\n"
          ]
        }
      ]
    },
    {
      "cell_type": "code",
      "source": [
        "sequence=train[['sequence1','sequence2','sequence3','sequence4','sequence5','sequence6','sequence7','sequence8','sequence9']].values\n",
        "Label=train[['mutation']]"
      ],
      "metadata": {
        "id": "FKI5mIK6EQqQ"
      },
      "execution_count": 4,
      "outputs": []
    },
    {
      "cell_type": "code",
      "source": [
        "Le = LabelEncoder()\n",
        "for i in range(len(sequence[0])):\n",
        "  sequence[:,i] = Le.fit_transform(sequence[:,i])\n",
        "print(sequence)"
      ],
      "metadata": {
        "colab": {
          "base_uri": "https://localhost:8080/"
        },
        "id": "Liwf647sFNU4",
        "outputId": "ed67e8c0-8aa1-4edf-918a-7b131f9a6a13"
      },
      "execution_count": 5,
      "outputs": [
        {
          "output_type": "stream",
          "name": "stdout",
          "text": [
            "[[0 0 0 ... 1 1 0]\n",
            " [0 0 1 ... 1 1 0]\n",
            " [0 0 0 ... 1 1 0]\n",
            " ...\n",
            " [0 1 0 ... 0 1 1]\n",
            " [1 0 0 ... 2 1 2]\n",
            " [0 0 0 ... 1 1 0]]\n"
          ]
        }
      ]
    },
    {
      "cell_type": "code",
      "source": [
        "X_train,X_test,y_train,y_test=train_test_split(sequence,Label,test_size=0.2,random_state=0)\n",
        "NBModel=GaussianNB()\n",
        "NBModel.fit(X_train,y_train)"
      ],
      "metadata": {
        "colab": {
          "base_uri": "https://localhost:8080/"
        },
        "id": "Scho0wwnFUs4",
        "outputId": "851c410d-66cc-4642-c21d-d991df7fba8a"
      },
      "execution_count": 6,
      "outputs": [
        {
          "output_type": "execute_result",
          "data": {
            "text/plain": [
              "GaussianNB()"
            ]
          },
          "metadata": {},
          "execution_count": 6
        }
      ]
    },
    {
      "cell_type": "code",
      "source": [
        "y_predicted=NBModel.predict(X_test)\n",
        "print(y_predicted)"
      ],
      "metadata": {
        "colab": {
          "base_uri": "https://localhost:8080/"
        },
        "id": "UPfOKuLRKz0H",
        "outputId": "35c34b18-12e8-415c-9e79-b91755bb64c4"
      },
      "execution_count": 7,
      "outputs": [
        {
          "output_type": "stream",
          "name": "stdout",
          "text": [
            "[1 1 0 ... 0 0 0]\n"
          ]
        }
      ]
    },
    {
      "cell_type": "code",
      "source": [
        "accuracy_score(y_test,y_predicted)*100\n",
        "print(accuracy_score)\n",
        "####print(metrics.classification_report(y_test,y_predicted))\n",
        "###print(metrics.confusion_matrix(y_test,y_predicted))"
      ],
      "metadata": {
        "colab": {
          "base_uri": "https://localhost:8080/"
        },
        "id": "X0T6I-09G-di",
        "outputId": "10dffec2-30ea-40c7-cd75-3684e985a86b"
      },
      "execution_count": 8,
      "outputs": [
        {
          "output_type": "stream",
          "name": "stdout",
          "text": [
            "<function accuracy_score at 0x7f69ca91e050>\n"
          ]
        }
      ]
    },
    {
      "cell_type": "code",
      "source": [
        "sequence1=test[['sequence1','sequence2','sequence3','sequence4','sequence5','sequence6','sequence7','sequence8','sequence9']].values\n",
        "Le = LabelEncoder()\n",
        "for i in range(len(sequence1[0])):\n",
        "  sequence1[:,i] = Le.fit_transform(sequence1[:,i])\n",
        "pred = NBModel.predict_proba(sequence1)[:,1]\n",
        "y1_test=submission['mutation']\n",
        "print(pred)\n",
        "##accuracy_score(y1_test,pred)*100"
      ],
      "metadata": {
        "colab": {
          "base_uri": "https://localhost:8080/"
        },
        "id": "EUDbjK79PoaM",
        "outputId": "6a2e2289-6abd-454a-e913-1adff7c6f70c"
      },
      "execution_count": 9,
      "outputs": [
        {
          "output_type": "stream",
          "name": "stdout",
          "text": [
            "[5.65465747e-02 2.93979975e-03 1.18181714e-01 ... 1.00000000e+00\n",
            " 3.12086472e-04 1.77795356e-01]\n"
          ]
        }
      ]
    },
    {
      "cell_type": "code",
      "source": [
        "submission['mutation'] = pred\n",
        "submission.to_csv('submission.csv', index=False)\n",
        "from google.colab import files\n",
        "files.download(\"submission.csv\")"
      ],
      "metadata": {
        "id": "SWHssf7gHVQm",
        "colab": {
          "base_uri": "https://localhost:8080/",
          "height": 17
        },
        "outputId": "7fed236c-8058-496a-b76d-b765782e2eb5"
      },
      "execution_count": 10,
      "outputs": [
        {
          "output_type": "display_data",
          "data": {
            "text/plain": [
              "<IPython.core.display.Javascript object>"
            ],
            "application/javascript": [
              "\n",
              "    async function download(id, filename, size) {\n",
              "      if (!google.colab.kernel.accessAllowed) {\n",
              "        return;\n",
              "      }\n",
              "      const div = document.createElement('div');\n",
              "      const label = document.createElement('label');\n",
              "      label.textContent = `Downloading \"${filename}\": `;\n",
              "      div.appendChild(label);\n",
              "      const progress = document.createElement('progress');\n",
              "      progress.max = size;\n",
              "      div.appendChild(progress);\n",
              "      document.body.appendChild(div);\n",
              "\n",
              "      const buffers = [];\n",
              "      let downloaded = 0;\n",
              "\n",
              "      const channel = await google.colab.kernel.comms.open(id);\n",
              "      // Send a message to notify the kernel that we're ready.\n",
              "      channel.send({})\n",
              "\n",
              "      for await (const message of channel.messages) {\n",
              "        // Send a message to notify the kernel that we're ready.\n",
              "        channel.send({})\n",
              "        if (message.buffers) {\n",
              "          for (const buffer of message.buffers) {\n",
              "            buffers.push(buffer);\n",
              "            downloaded += buffer.byteLength;\n",
              "            progress.value = downloaded;\n",
              "          }\n",
              "        }\n",
              "      }\n",
              "      const blob = new Blob(buffers, {type: 'application/binary'});\n",
              "      const a = document.createElement('a');\n",
              "      a.href = window.URL.createObjectURL(blob);\n",
              "      a.download = filename;\n",
              "      div.appendChild(a);\n",
              "      a.click();\n",
              "      div.remove();\n",
              "    }\n",
              "  "
            ]
          },
          "metadata": {}
        },
        {
          "output_type": "display_data",
          "data": {
            "text/plain": [
              "<IPython.core.display.Javascript object>"
            ],
            "application/javascript": [
              "download(\"download_ac7c4405-87f1-4e9a-8bcb-21e2a4fab50b\", \"submission.csv\", 3248042)"
            ]
          },
          "metadata": {}
        }
      ]
    }
  ]
}