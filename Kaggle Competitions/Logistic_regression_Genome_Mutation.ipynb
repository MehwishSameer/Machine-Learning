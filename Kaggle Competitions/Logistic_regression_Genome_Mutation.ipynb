{
  "nbformat": 4,
  "nbformat_minor": 0,
  "metadata": {
    "colab": {
      "name": "Logistic_regression_Genome_Mutation.ipynb",
      "provenance": [],
      "authorship_tag": "ABX9TyNEbPNptDDk0GK0DEpkTDO1",
      "include_colab_link": true
    },
    "kernelspec": {
      "name": "python3",
      "display_name": "Python 3"
    },
    "language_info": {
      "name": "python"
    }
  },
  "cells": [
    {
      "cell_type": "markdown",
      "metadata": {
        "id": "view-in-github",
        "colab_type": "text"
      },
      "source": [
        "<a href=\"https://colab.research.google.com/github/MehwishSameer/Machine-Learning/blob/main/Kaggle%20Competitions/Logistic_regression_Genome_Mutation.ipynb\" target=\"_parent\"><img src=\"https://colab.research.google.com/assets/colab-badge.svg\" alt=\"Open In Colab\"/></a>"
      ]
    },
    {
      "cell_type": "code",
      "execution_count": null,
      "metadata": {
        "id": "C4s2eVqFQ5bG"
      },
      "outputs": [],
      "source": [
        "import numpy as np\n",
        "import pandas as pd\n",
        "import matplotlib.pyplot as plt\n",
        "from sklearn.naive_bayes import GaussianNB\n",
        "from sklearn.preprocessing import LabelEncoder\n",
        "from sklearn.model_selection import train_test_split\n",
        "from sklearn.linear_model import LogisticRegression\n",
        "from sklearn import neighbors,metrics\n",
        "from sklearn.metrics import accuracy_score, confusion_matrix\n",
        "from matplotlib import ticker\n",
        "import seaborn as sns\n",
        "import warnings\n",
        "\n",
        "# options\n",
        "warnings.filterwarnings('ignore')"
      ]
    },
    {
      "cell_type": "code",
      "source": [
        "from google.colab import drive\n",
        "drive.mount('/content/gdrive')\n",
        "path = 'gdrive/My Drive/car.data'\n",
        "data = pd.read_csv(path)\n",
        "train = pd.read_csv('gdrive/My Drive/train.csv')\n",
        "test = pd.read_csv('gdrive/My Drive/test.csv')\n",
        "submission = pd.read_csv('gdrive/My Drive/submission (5).csv')"
      ],
      "metadata": {
        "colab": {
          "base_uri": "https://localhost:8080/"
        },
        "id": "aF8kbUezRDzE",
        "outputId": "6d4a3fa0-0c37-4199-fc73-2abd252b3d20"
      },
      "execution_count": null,
      "outputs": [
        {
          "output_type": "stream",
          "name": "stdout",
          "text": [
            "Mounted at /content/gdrive\n"
          ]
        }
      ]
    },
    {
      "cell_type": "code",
      "source": [
        "sequence=train[['sequence1','sequence2','sequence3','sequence4','sequence5','sequence6','sequence7','sequence8','sequence9']].values\n",
        "Label=train[['mutation']]"
      ],
      "metadata": {
        "id": "QvXrOrL5REr7"
      },
      "execution_count": null,
      "outputs": []
    },
    {
      "cell_type": "code",
      "source": [
        "Le = LabelEncoder()\n",
        "for i in range(len(sequence[0])):\n",
        "  sequence[:,i] = Le.fit_transform(sequence[:,i])\n",
        "print(sequence)"
      ],
      "metadata": {
        "colab": {
          "base_uri": "https://localhost:8080/"
        },
        "id": "h0CD2_7oRHXf",
        "outputId": "cd529cfb-4e14-452d-aa5d-f43fcb8f1d06"
      },
      "execution_count": null,
      "outputs": [
        {
          "output_type": "stream",
          "name": "stdout",
          "text": [
            "[[0 0 0 ... 1 1 0]\n",
            " [0 0 1 ... 1 1 0]\n",
            " [0 0 0 ... 1 1 0]\n",
            " ...\n",
            " [0 1 0 ... 0 1 1]\n",
            " [1 0 0 ... 2 1 2]\n",
            " [0 0 0 ... 1 1 0]]\n"
          ]
        }
      ]
    },
    {
      "cell_type": "code",
      "source": [
        "X_train,X_test,y_train,y_test=train_test_split(sequence,Label,test_size=0.2)\n",
        "log_reg=LogisticRegression()\n",
        "log_reg.fit(X_train,y_train)\n",
        "prediction=log_reg.predict(X_test)"
      ],
      "metadata": {
        "id": "LHwjQZEpRLRS"
      },
      "execution_count": null,
      "outputs": []
    },
    {
      "cell_type": "code",
      "source": [
        "###confusion_matrix(y_test,prediction)\n",
        "sequence1=test[['sequence1','sequence2','sequence3','sequence4','sequence5','sequence6','sequence7','sequence8','sequence9']].values\n",
        "Le = LabelEncoder()\n",
        "for i in range(len(sequence1[0])):\n",
        "  sequence1[:,i] = Le.fit_transform(sequence1[:,i])\n",
        "pred = log_reg.predict_proba(sequence1)[:,1]\n",
        "print(log_reg.score(X_test, y_test))\n",
        "###print(log_reg.score(sequence1, pred))\n",
        "score=0\n",
        "comp=submission[['mutation']].to_numpy()\n",
        "for x in range(12):\n",
        "  if(comp[x]==pred[x]):\n",
        "    score=score+1\n",
        "print(score)"
      ],
      "metadata": {
        "colab": {
          "base_uri": "https://localhost:8080/"
        },
        "id": "nhgPbXBMUljb",
        "outputId": "01111196-97b5-4f67-ea1a-e96a30c05ebc"
      },
      "execution_count": null,
      "outputs": [
        {
          "output_type": "stream",
          "name": "stdout",
          "text": [
            "0.8216111111111111\n",
            "[0.05831056]\n",
            "0.5527371296470133\n",
            "[3.31254463e-05]\n",
            "0.10769876244660066\n",
            "[0.0109642]\n",
            "0.40023513384700626\n",
            "[0.01106889]\n",
            "0.29092849425586453\n",
            "[3.02625449e-07]\n",
            "0.03958417501796652\n",
            "[9.73569016e-05]\n",
            "0.11393104099175526\n",
            "[0.99959655]\n",
            "0.4882859315968684\n",
            "[0.00272324]\n",
            "0.10769876244660066\n",
            "[0.04937209]\n",
            "0.36927548437197055\n",
            "[1.45639892e-06]\n",
            "0.03958417501796652\n",
            "[0.07411206]\n",
            "0.31068175829338357\n",
            "[0.88389]\n",
            "0.31068175829338357\n",
            "0\n"
          ]
        }
      ]
    },
    {
      "cell_type": "code",
      "source": [
        "submission['mutation'] = pred\n",
        "submission.to_csv('submission.csv', index=False)\n",
        "from google.colab import files\n",
        "files.download(\"submission.csv\")"
      ],
      "metadata": {
        "id": "9c_SmoDqVVcS"
      },
      "execution_count": null,
      "outputs": []
    }
  ]
}