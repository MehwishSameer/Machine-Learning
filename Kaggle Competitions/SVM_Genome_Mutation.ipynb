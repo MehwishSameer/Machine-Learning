{
  "cells": [
    {
      "cell_type": "markdown",
      "metadata": {
        "id": "view-in-github",
        "colab_type": "text"
      },
      "source": [
        "<a href=\"https://colab.research.google.com/github/MehwishSameer/Machine-Learning/blob/main/Kaggle%20Competitions/SVM_Genome_Mutation.ipynb\" target=\"_parent\"><img src=\"https://colab.research.google.com/assets/colab-badge.svg\" alt=\"Open In Colab\"/></a>"
      ]
    },
    {
      "cell_type": "code",
      "execution_count": 1,
      "metadata": {
        "id": "K7Z61dAhXPap"
      },
      "outputs": [],
      "source": [
        "import numpy as np\n",
        "import pandas as pd\n",
        "import matplotlib.pyplot as plt\n",
        "from sklearn.naive_bayes import GaussianNB\n",
        "from sklearn.preprocessing import LabelEncoder\n",
        "from sklearn.model_selection import train_test_split\n",
        "from sklearn.linear_model import LogisticRegression\n",
        "from sklearn import neighbors,metrics\n",
        "from sklearn.metrics import accuracy_score, confusion_matrix\n",
        "from sklearn import svm\n",
        "from matplotlib import ticker\n",
        "import seaborn as sns\n",
        "import warnings\n",
        "\n",
        "# options\n",
        "warnings.filterwarnings('ignore')"
      ]
    },
    {
      "cell_type": "code",
      "execution_count": 2,
      "metadata": {
        "colab": {
          "base_uri": "https://localhost:8080/"
        },
        "id": "PpZH3IcFXagE",
        "outputId": "3961df88-f167-4a8d-ab4b-1a1b1485fcbf"
      },
      "outputs": [
        {
          "output_type": "stream",
          "name": "stdout",
          "text": [
            "Mounted at /content/gdrive\n"
          ]
        }
      ],
      "source": [
        "from google.colab import drive\n",
        "drive.mount('/content/gdrive')\n",
        "path = 'gdrive/My Drive/car.data'\n",
        "data = pd.read_csv(path)\n",
        "train = pd.read_csv('gdrive/My Drive/train.csv')\n",
        "test = pd.read_csv('gdrive/My Drive/test.csv')\n",
        "submission = pd.read_csv('gdrive/My Drive/submission (5).csv')"
      ]
    },
    {
      "cell_type": "code",
      "execution_count": 3,
      "metadata": {
        "id": "pDvDiNPCXeXR"
      },
      "outputs": [],
      "source": [
        "sequence=train[['sequence1','sequence2','sequence3','sequence4','sequence5','sequence6','sequence7','sequence8','sequence9']].values\n",
        "Label=train[['mutation']]"
      ]
    },
    {
      "cell_type": "code",
      "execution_count": 4,
      "metadata": {
        "colab": {
          "base_uri": "https://localhost:8080/"
        },
        "id": "4HxlelbwXfLC",
        "outputId": "c13326da-1337-4891-ffc4-a0abf69be094"
      },
      "outputs": [
        {
          "output_type": "stream",
          "name": "stdout",
          "text": [
            "[[0 0 0 ... 1 1 0]\n",
            " [0 0 1 ... 1 1 0]\n",
            " [0 0 0 ... 1 1 0]\n",
            " ...\n",
            " [0 1 0 ... 0 1 1]\n",
            " [1 0 0 ... 2 1 2]\n",
            " [0 0 0 ... 1 1 0]]\n"
          ]
        }
      ],
      "source": [
        "Le = LabelEncoder()\n",
        "for i in range(len(sequence[0])):\n",
        "  sequence[:,i] = Le.fit_transform(sequence[:,i])\n",
        "print(sequence)"
      ]
    },
    {
      "cell_type": "code",
      "execution_count": null,
      "metadata": {
        "colab": {
          "background_save": true
        },
        "id": "IMitzQQiegaZ"
      },
      "outputs": [],
      "source": [
        "X_train,X_test,y_train,y_test=train_test_split(sequence,Label,test_size=0.2)\n",
        "model = svm.SVC()\n",
        "model.fit(X_train,y_train)\n",
        "predictions1 = model.predict(X_test)\n",
        "accuracy1 = metrics.accuracy_score(y_test,predictions1)\n",
        "print(y_test)                                 #actual\n",
        "print(predictions1)                           #predicted\n",
        "print(accuracy1)"
      ]
    },
    {
      "cell_type": "code",
      "execution_count": null,
      "metadata": {
        "colab": {
          "background_save": true
        },
        "id": "4G1yog2bXk1P"
      },
      "outputs": [],
      "source": [
        "sequence1=test[['sequence1','sequence2','sequence3','sequence4','sequence5','sequence6','sequence7','sequence8','sequence9']].values\n",
        "Le = LabelEncoder()\n",
        "for i in range(len(sequence1[0])):\n",
        "  sequence1[:,i] = Le.fit_transform(sequence1[:,i])\n",
        "pred = model.predict(sequence1)\n",
        "submission['mutation'] = pred\n",
        "submission.to_csv('submission.csv', index=False)\n",
        "from google.colab import files\n",
        "files.download(\"submission.csv\")"
      ]
    }
  ],
  "metadata": {
    "colab": {
      "collapsed_sections": [],
      "name": "SVM_Genome Mutation.ipynb",
      "provenance": [],
      "authorship_tag": "ABX9TyMZ+Z86LxpEUfTwSwvirDMT",
      "include_colab_link": true
    },
    "kernelspec": {
      "display_name": "Python 3",
      "name": "python3"
    },
    "language_info": {
      "name": "python"
    }
  },
  "nbformat": 4,
  "nbformat_minor": 0
}